{
 "cells": [
  {
   "cell_type": "code",
   "execution_count": null,
   "id": "d92f2509",
   "metadata": {},
   "outputs": [],
   "source": []
  },
  {
   "cell_type": "code",
   "execution_count": 22,
   "id": "ab9e7e06",
   "metadata": {},
   "outputs": [
    {
     "name": "stdout",
     "output_type": "stream",
     "text": [
      "Comp Turn : Snake(s) Water(w) or Gun(g)?\n",
      "1\n",
      "Your Turn : Snake(s) Water(w) or Gun(g)?w\n",
      "Computer chose s\n",
      "You chose w\n",
      "You lose!\n"
     ]
    }
   ],
   "source": [
    "import random\n",
    "\n",
    "def gameWin(comp,you):\n",
    "    if comp == you:\n",
    "        return None\n",
    "    elif comp == 's':\n",
    "        if you=='w':\n",
    "            return False\n",
    "        elif you=='g':\n",
    "            return True\n",
    "    elif comp =='w':\n",
    "        if you=='g':\n",
    "            return False\n",
    "        elif you=='s':\n",
    "            return True\n",
    "    elif comp =='g':\n",
    "        if you=='s':\n",
    "            return False\n",
    "        elif you=='s':\n",
    "            return True    \n",
    "print(\"Comp Turn : Snake(s) Water(w) or Gun(g)?\")        \n",
    "randNo = random.randint(1, 3)     \n",
    "print(randNo )\n",
    "if randNo == 1 :\n",
    "    comp = 's'\n",
    "elif randNo == 2 :\n",
    "    comp = 'w'   \n",
    "elif randNo == 3 :\n",
    "    comp = 'g'     \n",
    "you = input(\"Your Turn : Snake(s) Water(w) or Gun(g)?\")\n",
    "a = gameWin(comp, you)\n",
    "\n",
    "print(f\"Computer chose {comp}\")\n",
    "print(f\"You chose {you}\")\n",
    "\n",
    "\n",
    "if a == None:\n",
    "    print(\"The game is a tie!\")\n",
    "elif a:\n",
    "    print(\"You Win!\")\n",
    "else:\n",
    "    print(\"You lose!\")"
   ]
  },
  {
   "cell_type": "code",
   "execution_count": null,
   "id": "67e186b9",
   "metadata": {},
   "outputs": [],
   "source": []
  },
  {
   "cell_type": "code",
   "execution_count": null,
   "id": "0a87bd13",
   "metadata": {},
   "outputs": [],
   "source": []
  }
 ],
 "metadata": {
  "kernelspec": {
   "display_name": "Python 3 (ipykernel)",
   "language": "python",
   "name": "python3"
  },
  "language_info": {
   "codemirror_mode": {
    "name": "ipython",
    "version": 3
   },
   "file_extension": ".py",
   "mimetype": "text/x-python",
   "name": "python",
   "nbconvert_exporter": "python",
   "pygments_lexer": "ipython3",
   "version": "3.9.12"
  }
 },
 "nbformat": 4,
 "nbformat_minor": 5
}
